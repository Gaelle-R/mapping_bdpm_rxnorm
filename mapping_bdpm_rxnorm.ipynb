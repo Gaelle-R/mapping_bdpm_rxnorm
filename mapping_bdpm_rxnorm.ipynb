{
 "cells": [
  {
   "cell_type": "markdown",
   "metadata": {},
   "source": [
    "# Alignements Athena BDPM - RxNorm - Quelques stats"
   ]
  },
  {
   "cell_type": "code",
   "execution_count": 1,
   "metadata": {},
   "outputs": [],
   "source": [
    "import pandas as pd"
   ]
  },
  {
   "cell_type": "code",
   "execution_count": 2,
   "metadata": {},
   "outputs": [
    {
     "name": "stderr",
     "output_type": "stream",
     "text": [
      "C:\\Users\\GaëlleRimaud\\AppData\\Local\\Temp\\ipykernel_17428\\3722695219.py:1: DtypeWarning: Columns (5,6,9) have mixed types. Specify dtype option on import or set low_memory=False.\n",
      "  concept = pd.read_csv('concept.csv', sep='\\t')\n"
     ]
    },
    {
     "data": {
      "text/html": [
       "<div>\n",
       "<style scoped>\n",
       "    .dataframe tbody tr th:only-of-type {\n",
       "        vertical-align: middle;\n",
       "    }\n",
       "\n",
       "    .dataframe tbody tr th {\n",
       "        vertical-align: top;\n",
       "    }\n",
       "\n",
       "    .dataframe thead th {\n",
       "        text-align: right;\n",
       "    }\n",
       "</style>\n",
       "<table border=\"1\" class=\"dataframe\">\n",
       "  <thead>\n",
       "    <tr style=\"text-align: right;\">\n",
       "      <th></th>\n",
       "      <th>concept_id</th>\n",
       "      <th>concept_name</th>\n",
       "      <th>domain_id</th>\n",
       "      <th>vocabulary_id</th>\n",
       "      <th>concept_class_id</th>\n",
       "      <th>standard_concept</th>\n",
       "      <th>concept_code</th>\n",
       "      <th>valid_start_date</th>\n",
       "      <th>valid_end_date</th>\n",
       "      <th>invalid_reason</th>\n",
       "    </tr>\n",
       "  </thead>\n",
       "  <tbody>\n",
       "    <tr>\n",
       "      <th>0</th>\n",
       "      <td>45756805</td>\n",
       "      <td>Pediatric Cardiology</td>\n",
       "      <td>Provider</td>\n",
       "      <td>ABMS</td>\n",
       "      <td>Physician Specialty</td>\n",
       "      <td>S</td>\n",
       "      <td>OMOP4821938</td>\n",
       "      <td>19700101</td>\n",
       "      <td>20991231</td>\n",
       "      <td>NaN</td>\n",
       "    </tr>\n",
       "    <tr>\n",
       "      <th>1</th>\n",
       "      <td>45756804</td>\n",
       "      <td>Pediatric Anesthesiology</td>\n",
       "      <td>Provider</td>\n",
       "      <td>ABMS</td>\n",
       "      <td>Physician Specialty</td>\n",
       "      <td>S</td>\n",
       "      <td>OMOP4821939</td>\n",
       "      <td>19700101</td>\n",
       "      <td>20991231</td>\n",
       "      <td>NaN</td>\n",
       "    </tr>\n",
       "    <tr>\n",
       "      <th>2</th>\n",
       "      <td>45756803</td>\n",
       "      <td>Pathology-Anatomic / Pathology-Clinical</td>\n",
       "      <td>Provider</td>\n",
       "      <td>ABMS</td>\n",
       "      <td>Physician Specialty</td>\n",
       "      <td>S</td>\n",
       "      <td>OMOP4821940</td>\n",
       "      <td>19700101</td>\n",
       "      <td>20991231</td>\n",
       "      <td>NaN</td>\n",
       "    </tr>\n",
       "    <tr>\n",
       "      <th>3</th>\n",
       "      <td>45756802</td>\n",
       "      <td>Pathology - Pediatric</td>\n",
       "      <td>Provider</td>\n",
       "      <td>ABMS</td>\n",
       "      <td>Physician Specialty</td>\n",
       "      <td>S</td>\n",
       "      <td>OMOP4821941</td>\n",
       "      <td>19700101</td>\n",
       "      <td>20991231</td>\n",
       "      <td>NaN</td>\n",
       "    </tr>\n",
       "    <tr>\n",
       "      <th>4</th>\n",
       "      <td>45756801</td>\n",
       "      <td>Pathology - Molecular Genetic</td>\n",
       "      <td>Provider</td>\n",
       "      <td>ABMS</td>\n",
       "      <td>Physician Specialty</td>\n",
       "      <td>S</td>\n",
       "      <td>OMOP4821942</td>\n",
       "      <td>19700101</td>\n",
       "      <td>20991231</td>\n",
       "      <td>NaN</td>\n",
       "    </tr>\n",
       "  </tbody>\n",
       "</table>\n",
       "</div>"
      ],
      "text/plain": [
       "   concept_id                             concept_name domain_id  \\\n",
       "0    45756805                     Pediatric Cardiology  Provider   \n",
       "1    45756804                 Pediatric Anesthesiology  Provider   \n",
       "2    45756803  Pathology-Anatomic / Pathology-Clinical  Provider   \n",
       "3    45756802                    Pathology - Pediatric  Provider   \n",
       "4    45756801            Pathology - Molecular Genetic  Provider   \n",
       "\n",
       "  vocabulary_id     concept_class_id standard_concept concept_code  \\\n",
       "0          ABMS  Physician Specialty                S  OMOP4821938   \n",
       "1          ABMS  Physician Specialty                S  OMOP4821939   \n",
       "2          ABMS  Physician Specialty                S  OMOP4821940   \n",
       "3          ABMS  Physician Specialty                S  OMOP4821941   \n",
       "4          ABMS  Physician Specialty                S  OMOP4821942   \n",
       "\n",
       "   valid_start_date  valid_end_date invalid_reason  \n",
       "0          19700101        20991231            NaN  \n",
       "1          19700101        20991231            NaN  \n",
       "2          19700101        20991231            NaN  \n",
       "3          19700101        20991231            NaN  \n",
       "4          19700101        20991231            NaN  "
      ]
     },
     "execution_count": 2,
     "metadata": {},
     "output_type": "execute_result"
    }
   ],
   "source": [
    "# Table concept\n",
    "concept = pd.read_csv('concept.csv', sep='\\t')\n",
    "concept.head()"
   ]
  },
  {
   "cell_type": "code",
   "execution_count": 11,
   "metadata": {},
   "outputs": [
    {
     "data": {
      "text/html": [
       "<div>\n",
       "<style scoped>\n",
       "    .dataframe tbody tr th:only-of-type {\n",
       "        vertical-align: middle;\n",
       "    }\n",
       "\n",
       "    .dataframe tbody tr th {\n",
       "        vertical-align: top;\n",
       "    }\n",
       "\n",
       "    .dataframe thead th {\n",
       "        text-align: right;\n",
       "    }\n",
       "</style>\n",
       "<table border=\"1\" class=\"dataframe\">\n",
       "  <thead>\n",
       "    <tr style=\"text-align: right;\">\n",
       "      <th></th>\n",
       "      <th>concept_id_1</th>\n",
       "      <th>concept_id_2</th>\n",
       "      <th>relationship_id</th>\n",
       "      <th>valid_start_date</th>\n",
       "      <th>valid_end_date</th>\n",
       "      <th>invalid_reason</th>\n",
       "    </tr>\n",
       "  </thead>\n",
       "  <tbody>\n",
       "    <tr>\n",
       "      <th>0</th>\n",
       "      <td>42628856</td>\n",
       "      <td>42628856</td>\n",
       "      <td>Mapped from</td>\n",
       "      <td>20160606</td>\n",
       "      <td>20991231</td>\n",
       "      <td>NaN</td>\n",
       "    </tr>\n",
       "    <tr>\n",
       "      <th>1</th>\n",
       "      <td>42628856</td>\n",
       "      <td>42628856</td>\n",
       "      <td>Maps to</td>\n",
       "      <td>20160606</td>\n",
       "      <td>20991231</td>\n",
       "      <td>NaN</td>\n",
       "    </tr>\n",
       "    <tr>\n",
       "      <th>2</th>\n",
       "      <td>42628859</td>\n",
       "      <td>40165064</td>\n",
       "      <td>Has quantified form</td>\n",
       "      <td>20160606</td>\n",
       "      <td>20991231</td>\n",
       "      <td>NaN</td>\n",
       "    </tr>\n",
       "    <tr>\n",
       "      <th>3</th>\n",
       "      <td>42628859</td>\n",
       "      <td>42628859</td>\n",
       "      <td>Mapped from</td>\n",
       "      <td>20160606</td>\n",
       "      <td>20991231</td>\n",
       "      <td>NaN</td>\n",
       "    </tr>\n",
       "    <tr>\n",
       "      <th>4</th>\n",
       "      <td>42628859</td>\n",
       "      <td>42628859</td>\n",
       "      <td>Maps to</td>\n",
       "      <td>20160606</td>\n",
       "      <td>20991231</td>\n",
       "      <td>NaN</td>\n",
       "    </tr>\n",
       "  </tbody>\n",
       "</table>\n",
       "</div>"
      ],
      "text/plain": [
       "   concept_id_1  concept_id_2      relationship_id  valid_start_date  \\\n",
       "0      42628856      42628856          Mapped from          20160606   \n",
       "1      42628856      42628856              Maps to          20160606   \n",
       "2      42628859      40165064  Has quantified form          20160606   \n",
       "3      42628859      42628859          Mapped from          20160606   \n",
       "4      42628859      42628859              Maps to          20160606   \n",
       "\n",
       "   valid_end_date  invalid_reason  \n",
       "0        20991231             NaN  \n",
       "1        20991231             NaN  \n",
       "2        20991231             NaN  \n",
       "3        20991231             NaN  \n",
       "4        20991231             NaN  "
      ]
     },
     "execution_count": 11,
     "metadata": {},
     "output_type": "execute_result"
    }
   ],
   "source": [
    "# Table concept_relationship --> Table qui contient les relations entre les codes (alignements, hiérarchiques, etc)\n",
    "concept_rel = pd.read_csv('CONCEPT_RELATIONSHIP.csv', sep='\\t')\n",
    "concept_rel.head()"
   ]
  },
  {
   "cell_type": "code",
   "execution_count": 3,
   "metadata": {},
   "outputs": [
    {
     "data": {
      "text/plain": [
       "array(['ABMS', 'SNOMED', 'ATC', 'BDPM', 'CCAM', 'CDM', 'CIM10',\n",
       "       'CMS Place of Service', 'Concept Class', 'Condition Status',\n",
       "       'Condition Type', 'Cost', 'Cost Type', 'Death Type', 'Device Type',\n",
       "       'Domain', 'Drug Type', 'Episode', 'RxNorm', 'Gender', 'ICD10CM',\n",
       "       'ICD10PCS', 'Korean Revenue Code', 'LOINC', 'Language',\n",
       "       'Relationship', 'Meas Type', 'Medicare Specialty', 'Metadata',\n",
       "       'None', 'Note Type', 'OSM', 'Obs Period Type', 'Observation Type',\n",
       "       'Plan', 'Plan Stop Reason', 'Procedure Type', 'SOPT', 'Sponsor',\n",
       "       'Type Concept', 'UB04 Point of Origin', 'UB04 Pri Typ of Adm',\n",
       "       'UB04 Pt dis status', 'UB04 Typ bill', 'UCUM', 'US Census',\n",
       "       'Visit', 'Visit Type', 'Vocabulary'], dtype=object)"
      ]
     },
     "execution_count": 3,
     "metadata": {},
     "output_type": "execute_result"
    }
   ],
   "source": [
    "# Nomenclatures uniques dans concept\n",
    "concept.vocabulary_id.unique()"
   ]
  },
  {
   "cell_type": "markdown",
   "metadata": {},
   "source": [
    "### Table concept pour les codes de la BDPM"
   ]
  },
  {
   "cell_type": "code",
   "execution_count": 50,
   "metadata": {},
   "outputs": [
    {
     "data": {
      "text/html": [
       "<div>\n",
       "<style scoped>\n",
       "    .dataframe tbody tr th:only-of-type {\n",
       "        vertical-align: middle;\n",
       "    }\n",
       "\n",
       "    .dataframe tbody tr th {\n",
       "        vertical-align: top;\n",
       "    }\n",
       "\n",
       "    .dataframe thead th {\n",
       "        text-align: right;\n",
       "    }\n",
       "</style>\n",
       "<table border=\"1\" class=\"dataframe\">\n",
       "  <thead>\n",
       "    <tr style=\"text-align: right;\">\n",
       "      <th></th>\n",
       "      <th>bdpm_code</th>\n",
       "      <th>bdpm_concept_id</th>\n",
       "      <th>bdpm_libelle</th>\n",
       "      <th>bdpm_concept_class_id</th>\n",
       "    </tr>\n",
       "  </thead>\n",
       "  <tbody>\n",
       "    <tr>\n",
       "      <th>6915</th>\n",
       "      <td>00001</td>\n",
       "      <td>43047359</td>\n",
       "      <td>Loperamide</td>\n",
       "      <td>Ingredient</td>\n",
       "    </tr>\n",
       "    <tr>\n",
       "      <th>6916</th>\n",
       "      <td>00005</td>\n",
       "      <td>43045429</td>\n",
       "      <td>Acetylsalicylic Acid</td>\n",
       "      <td>Ingredient</td>\n",
       "    </tr>\n",
       "    <tr>\n",
       "      <th>6917</th>\n",
       "      <td>00007</td>\n",
       "      <td>43045800</td>\n",
       "      <td>Benzoic Acid</td>\n",
       "      <td>Ingredient</td>\n",
       "    </tr>\n",
       "    <tr>\n",
       "      <th>6918</th>\n",
       "      <td>00008</td>\n",
       "      <td>43045866</td>\n",
       "      <td>Boric Acid</td>\n",
       "      <td>Ingredient</td>\n",
       "    </tr>\n",
       "    <tr>\n",
       "      <th>6919</th>\n",
       "      <td>00011</td>\n",
       "      <td>43045611</td>\n",
       "      <td>Anhydrous Citric Acid</td>\n",
       "      <td>Ingredient</td>\n",
       "    </tr>\n",
       "  </tbody>\n",
       "</table>\n",
       "</div>"
      ],
      "text/plain": [
       "     bdpm_code  bdpm_concept_id           bdpm_libelle bdpm_concept_class_id\n",
       "6915     00001         43047359             Loperamide            Ingredient\n",
       "6916     00005         43045429   Acetylsalicylic Acid            Ingredient\n",
       "6917     00007         43045800           Benzoic Acid            Ingredient\n",
       "6918     00008         43045866             Boric Acid            Ingredient\n",
       "6919     00011         43045611  Anhydrous Citric Acid            Ingredient"
      ]
     },
     "execution_count": 50,
     "metadata": {},
     "output_type": "execute_result"
    }
   ],
   "source": [
    "# Table concept pour les codes de la BDPM\n",
    "bdpm = concept[concept.vocabulary_id=='BDPM'][['concept_code','concept_id','concept_name','concept_class_id']].rename(columns={'concept_code' : 'bdpm_code', 'concept_id': 'bdpm_concept_id','concept_name':'bdpm_libelle','concept_class_id':'bdpm_concept_class_id'})\n",
    "bdpm.head()"
   ]
  },
  {
   "cell_type": "code",
   "execution_count": 51,
   "metadata": {},
   "outputs": [
    {
     "data": {
      "text/plain": [
       "bdpm_code                44376\n",
       "bdpm_concept_id          44376\n",
       "bdpm_libelle             31140\n",
       "bdpm_concept_class_id        6\n",
       "dtype: int64"
      ]
     },
     "execution_count": 51,
     "metadata": {},
     "output_type": "execute_result"
    }
   ],
   "source": [
    "#Nombre de valeurs uniques\n",
    "bdpm.nunique()"
   ]
  },
  {
   "cell_type": "code",
   "execution_count": 53,
   "metadata": {},
   "outputs": [
    {
     "data": {
      "text/plain": [
       "Drug Product    22113\n",
       "Brand Name      15053\n",
       "Ingredient       4310\n",
       "Supplier         1504\n",
       "Device           1162\n",
       "Dose Form         234\n",
       "Name: bdpm_concept_class_id, dtype: int64"
      ]
     },
     "execution_count": 53,
     "metadata": {},
     "output_type": "execute_result"
    }
   ],
   "source": [
    "# Nombre de lignes par classe\n",
    "bdpm.bdpm_concept_class_id.value_counts()"
   ]
  },
  {
   "cell_type": "markdown",
   "metadata": {},
   "source": [
    "### Table concept pour les codes RxNorm"
   ]
  },
  {
   "cell_type": "code",
   "execution_count": 54,
   "metadata": {},
   "outputs": [
    {
     "data": {
      "text/html": [
       "<div>\n",
       "<style scoped>\n",
       "    .dataframe tbody tr th:only-of-type {\n",
       "        vertical-align: middle;\n",
       "    }\n",
       "\n",
       "    .dataframe tbody tr th {\n",
       "        vertical-align: top;\n",
       "    }\n",
       "\n",
       "    .dataframe thead th {\n",
       "        text-align: right;\n",
       "    }\n",
       "</style>\n",
       "<table border=\"1\" class=\"dataframe\">\n",
       "  <thead>\n",
       "    <tr style=\"text-align: right;\">\n",
       "      <th></th>\n",
       "      <th>rxnorm_code</th>\n",
       "      <th>rxnorm_concept_id</th>\n",
       "      <th>rxnorm_libelle</th>\n",
       "      <th>rxnorm_concept_class_id</th>\n",
       "    </tr>\n",
       "  </thead>\n",
       "  <tbody>\n",
       "    <tr>\n",
       "      <th>63745</th>\n",
       "      <td>1042838</td>\n",
       "      <td>40229458</td>\n",
       "      <td>benzocaine 0.18 MG/MG Oral Gel</td>\n",
       "      <td>Clinical Drug</td>\n",
       "    </tr>\n",
       "    <tr>\n",
       "      <th>63746</th>\n",
       "      <td>1042847</td>\n",
       "      <td>40229459</td>\n",
       "      <td>benzocaine 0.18 MG/MG Oral Ointment</td>\n",
       "      <td>Clinical Drug</td>\n",
       "    </tr>\n",
       "    <tr>\n",
       "      <th>63747</th>\n",
       "      <td>1049224</td>\n",
       "      <td>40232055</td>\n",
       "      <td>benzocaine 0.18 MG/MG Oral Ointment [Topicale]</td>\n",
       "      <td>Branded Drug</td>\n",
       "    </tr>\n",
       "    <tr>\n",
       "      <th>63748</th>\n",
       "      <td>1371295</td>\n",
       "      <td>43525657</td>\n",
       "      <td>benzocaine 180 MG/ML Mucous Membrane Topical S...</td>\n",
       "      <td>Clinical Drug</td>\n",
       "    </tr>\n",
       "    <tr>\n",
       "      <th>63749</th>\n",
       "      <td>1371298</td>\n",
       "      <td>43525658</td>\n",
       "      <td>benzocaine 180 MG/ML Mucous Membrane Topical S...</td>\n",
       "      <td>Branded Drug</td>\n",
       "    </tr>\n",
       "  </tbody>\n",
       "</table>\n",
       "</div>"
      ],
      "text/plain": [
       "      rxnorm_code  rxnorm_concept_id  \\\n",
       "63745     1042838           40229458   \n",
       "63746     1042847           40229459   \n",
       "63747     1049224           40232055   \n",
       "63748     1371295           43525657   \n",
       "63749     1371298           43525658   \n",
       "\n",
       "                                          rxnorm_libelle  \\\n",
       "63745                     benzocaine 0.18 MG/MG Oral Gel   \n",
       "63746                benzocaine 0.18 MG/MG Oral Ointment   \n",
       "63747     benzocaine 0.18 MG/MG Oral Ointment [Topicale]   \n",
       "63748  benzocaine 180 MG/ML Mucous Membrane Topical S...   \n",
       "63749  benzocaine 180 MG/ML Mucous Membrane Topical S...   \n",
       "\n",
       "      rxnorm_concept_class_id  \n",
       "63745           Clinical Drug  \n",
       "63746           Clinical Drug  \n",
       "63747            Branded Drug  \n",
       "63748           Clinical Drug  \n",
       "63749            Branded Drug  "
      ]
     },
     "execution_count": 54,
     "metadata": {},
     "output_type": "execute_result"
    }
   ],
   "source": [
    "rxnorm = concept[concept.vocabulary_id=='RxNorm'][['concept_code','concept_id','concept_name','concept_class_id']].rename(columns={'concept_code':'rxnorm_code','concept_name':'rxnorm_libelle','concept_id' : 'rxnorm_concept_id','concept_class_id':'rxnorm_concept_class_id'})\n",
    "rxnorm.head()"
   ]
  },
  {
   "cell_type": "code",
   "execution_count": 55,
   "metadata": {},
   "outputs": [
    {
     "data": {
      "text/plain": [
       "rxnorm_code                308709\n",
       "rxnorm_concept_id          308709\n",
       "rxnorm_libelle             306364\n",
       "rxnorm_concept_class_id        18\n",
       "dtype: int64"
      ]
     },
     "execution_count": 55,
     "metadata": {},
     "output_type": "execute_result"
    }
   ],
   "source": [
    "# Nombre de valeurs uniques\n",
    "rxnorm.nunique()"
   ]
  },
  {
   "cell_type": "code",
   "execution_count": 61,
   "metadata": {},
   "outputs": [
    {
     "data": {
      "text/plain": [
       "Clinical Drug           53083\n",
       "Branded Drug            39083\n",
       "Clinical Drug Comp      38474\n",
       "Branded Drug Comp       36748\n",
       "Branded Drug Form       26595\n",
       "Branded Dose Group      23388\n",
       "Clinical Drug Form      20773\n",
       "Brand Name              19469\n",
       "Clinical Dose Group     17741\n",
       "Ingredient              15604\n",
       "Multiple Ingredients     4469\n",
       "Quant Clinical Drug      3860\n",
       "Precise Ingredient       3476\n",
       "Quant Branded Drug       3215\n",
       "Branded Pack             1308\n",
       "Clinical Pack            1175\n",
       "Dose Form                 201\n",
       "Dose Form Group            47\n",
       "Name: rxnorm_concept_class_id, dtype: int64"
      ]
     },
     "execution_count": 61,
     "metadata": {},
     "output_type": "execute_result"
    }
   ],
   "source": [
    "# Nombre de codes par classe\n",
    "rxnorm.rxnorm_concept_class_id.value_counts()"
   ]
  },
  {
   "cell_type": "markdown",
   "metadata": {},
   "source": [
    "### Codes de la bdpm dans la table des relations"
   ]
  },
  {
   "cell_type": "code",
   "execution_count": 64,
   "metadata": {},
   "outputs": [
    {
     "data": {
      "text/html": [
       "<div>\n",
       "<style scoped>\n",
       "    .dataframe tbody tr th:only-of-type {\n",
       "        vertical-align: middle;\n",
       "    }\n",
       "\n",
       "    .dataframe tbody tr th {\n",
       "        vertical-align: top;\n",
       "    }\n",
       "\n",
       "    .dataframe thead th {\n",
       "        text-align: right;\n",
       "    }\n",
       "</style>\n",
       "<table border=\"1\" class=\"dataframe\">\n",
       "  <thead>\n",
       "    <tr style=\"text-align: right;\">\n",
       "      <th></th>\n",
       "      <th>bdpm_code</th>\n",
       "      <th>bdpm_concept_id</th>\n",
       "      <th>bdpm_libelle</th>\n",
       "      <th>bdpm_concept_class_id</th>\n",
       "      <th>concept_id_1</th>\n",
       "      <th>concept_id_2</th>\n",
       "      <th>relationship_id</th>\n",
       "      <th>valid_start_date</th>\n",
       "      <th>valid_end_date</th>\n",
       "      <th>invalid_reason</th>\n",
       "    </tr>\n",
       "  </thead>\n",
       "  <tbody>\n",
       "    <tr>\n",
       "      <th>0</th>\n",
       "      <td>00001</td>\n",
       "      <td>43047359</td>\n",
       "      <td>Loperamide</td>\n",
       "      <td>Ingredient</td>\n",
       "      <td>43047359</td>\n",
       "      <td>991876</td>\n",
       "      <td>Maps to</td>\n",
       "      <td>20191006</td>\n",
       "      <td>20991231</td>\n",
       "      <td>NaN</td>\n",
       "    </tr>\n",
       "    <tr>\n",
       "      <th>1</th>\n",
       "      <td>00005</td>\n",
       "      <td>43045429</td>\n",
       "      <td>Acetylsalicylic Acid</td>\n",
       "      <td>Ingredient</td>\n",
       "      <td>43045429</td>\n",
       "      <td>1112807</td>\n",
       "      <td>Maps to</td>\n",
       "      <td>20191006</td>\n",
       "      <td>20991231</td>\n",
       "      <td>NaN</td>\n",
       "    </tr>\n",
       "    <tr>\n",
       "      <th>2</th>\n",
       "      <td>00007</td>\n",
       "      <td>43045800</td>\n",
       "      <td>Benzoic Acid</td>\n",
       "      <td>Ingredient</td>\n",
       "      <td>43045800</td>\n",
       "      <td>711452</td>\n",
       "      <td>Maps to</td>\n",
       "      <td>20191006</td>\n",
       "      <td>20991231</td>\n",
       "      <td>NaN</td>\n",
       "    </tr>\n",
       "    <tr>\n",
       "      <th>3</th>\n",
       "      <td>00008</td>\n",
       "      <td>43045866</td>\n",
       "      <td>Boric Acid</td>\n",
       "      <td>Ingredient</td>\n",
       "      <td>43045866</td>\n",
       "      <td>929698</td>\n",
       "      <td>Maps to</td>\n",
       "      <td>20191006</td>\n",
       "      <td>20991231</td>\n",
       "      <td>NaN</td>\n",
       "    </tr>\n",
       "    <tr>\n",
       "      <th>4</th>\n",
       "      <td>00011</td>\n",
       "      <td>43045611</td>\n",
       "      <td>Anhydrous Citric Acid</td>\n",
       "      <td>Ingredient</td>\n",
       "      <td>43045611</td>\n",
       "      <td>950435</td>\n",
       "      <td>Maps to</td>\n",
       "      <td>20191006</td>\n",
       "      <td>20991231</td>\n",
       "      <td>NaN</td>\n",
       "    </tr>\n",
       "  </tbody>\n",
       "</table>\n",
       "</div>"
      ],
      "text/plain": [
       "  bdpm_code  bdpm_concept_id           bdpm_libelle bdpm_concept_class_id  \\\n",
       "0     00001         43047359             Loperamide            Ingredient   \n",
       "1     00005         43045429   Acetylsalicylic Acid            Ingredient   \n",
       "2     00007         43045800           Benzoic Acid            Ingredient   \n",
       "3     00008         43045866             Boric Acid            Ingredient   \n",
       "4     00011         43045611  Anhydrous Citric Acid            Ingredient   \n",
       "\n",
       "   concept_id_1  concept_id_2 relationship_id  valid_start_date  \\\n",
       "0      43047359        991876         Maps to          20191006   \n",
       "1      43045429       1112807         Maps to          20191006   \n",
       "2      43045800        711452         Maps to          20191006   \n",
       "3      43045866        929698         Maps to          20191006   \n",
       "4      43045611        950435         Maps to          20191006   \n",
       "\n",
       "   valid_end_date  invalid_reason  \n",
       "0        20991231             NaN  \n",
       "1        20991231             NaN  \n",
       "2        20991231             NaN  \n",
       "3        20991231             NaN  \n",
       "4        20991231             NaN  "
      ]
     },
     "execution_count": 64,
     "metadata": {},
     "output_type": "execute_result"
    }
   ],
   "source": [
    "bdpm_concept_rel = bdpm.merge(concept_rel, left_on=['bdpm_concept_id'], right_on=['concept_id_1'])\n",
    "bdpm_concept_rel.head()"
   ]
  },
  {
   "cell_type": "code",
   "execution_count": 65,
   "metadata": {},
   "outputs": [
    {
     "data": {
      "text/plain": [
       "bdpm_code                7300\n",
       "bdpm_concept_id          7300\n",
       "bdpm_libelle             5949\n",
       "bdpm_concept_class_id       5\n",
       "concept_id_1             7300\n",
       "concept_id_2             4445\n",
       "relationship_id             3\n",
       "valid_start_date            4\n",
       "valid_end_date              1\n",
       "invalid_reason              0\n",
       "dtype: int64"
      ]
     },
     "execution_count": 65,
     "metadata": {},
     "output_type": "execute_result"
    }
   ],
   "source": [
    "# Valuers uniques par colonne\n",
    "bdpm_concept_rel.nunique()"
   ]
  },
  {
   "cell_type": "markdown",
   "metadata": {},
   "source": [
    "Seulement 7300 / 44376 codes de la bdpm sont dans concept_relationship."
   ]
  },
  {
   "cell_type": "markdown",
   "metadata": {},
   "source": [
    "### Relations entre les codes de la BDPM et RxNorm"
   ]
  },
  {
   "cell_type": "code",
   "execution_count": 67,
   "metadata": {},
   "outputs": [
    {
     "data": {
      "text/html": [
       "<div>\n",
       "<style scoped>\n",
       "    .dataframe tbody tr th:only-of-type {\n",
       "        vertical-align: middle;\n",
       "    }\n",
       "\n",
       "    .dataframe tbody tr th {\n",
       "        vertical-align: top;\n",
       "    }\n",
       "\n",
       "    .dataframe thead th {\n",
       "        text-align: right;\n",
       "    }\n",
       "</style>\n",
       "<table border=\"1\" class=\"dataframe\">\n",
       "  <thead>\n",
       "    <tr style=\"text-align: right;\">\n",
       "      <th></th>\n",
       "      <th>bdpm_code</th>\n",
       "      <th>bdpm_concept_id</th>\n",
       "      <th>bdpm_libelle</th>\n",
       "      <th>bdpm_concept_class_id</th>\n",
       "      <th>relationship_id</th>\n",
       "      <th>rxnorm_code</th>\n",
       "      <th>rxnorm_concept_id</th>\n",
       "      <th>rxnorm_libelle</th>\n",
       "      <th>rxnorm_concept_class_id</th>\n",
       "    </tr>\n",
       "  </thead>\n",
       "  <tbody>\n",
       "    <tr>\n",
       "      <th>0</th>\n",
       "      <td>00001</td>\n",
       "      <td>43047359</td>\n",
       "      <td>Loperamide</td>\n",
       "      <td>Ingredient</td>\n",
       "      <td>Maps to</td>\n",
       "      <td>6468</td>\n",
       "      <td>991876</td>\n",
       "      <td>loperamide</td>\n",
       "      <td>Ingredient</td>\n",
       "    </tr>\n",
       "    <tr>\n",
       "      <th>1</th>\n",
       "      <td>1</td>\n",
       "      <td>43239732</td>\n",
       "      <td>Loperamide hydrochloride</td>\n",
       "      <td>Ingredient</td>\n",
       "      <td>Maps to</td>\n",
       "      <td>6468</td>\n",
       "      <td>991876</td>\n",
       "      <td>loperamide</td>\n",
       "      <td>Ingredient</td>\n",
       "    </tr>\n",
       "    <tr>\n",
       "      <th>2</th>\n",
       "      <td>1</td>\n",
       "      <td>43239732</td>\n",
       "      <td>Loperamide hydrochloride</td>\n",
       "      <td>Ingredient</td>\n",
       "      <td>Source - RxNorm eq</td>\n",
       "      <td>6468</td>\n",
       "      <td>991876</td>\n",
       "      <td>loperamide</td>\n",
       "      <td>Ingredient</td>\n",
       "    </tr>\n",
       "    <tr>\n",
       "      <th>3</th>\n",
       "      <td>27324</td>\n",
       "      <td>43236076</td>\n",
       "      <td>Loperamide oxide monohydrate</td>\n",
       "      <td>Ingredient</td>\n",
       "      <td>Maps to</td>\n",
       "      <td>6468</td>\n",
       "      <td>991876</td>\n",
       "      <td>loperamide</td>\n",
       "      <td>Ingredient</td>\n",
       "    </tr>\n",
       "    <tr>\n",
       "      <th>4</th>\n",
       "      <td>27324</td>\n",
       "      <td>43236076</td>\n",
       "      <td>Loperamide oxide monohydrate</td>\n",
       "      <td>Ingredient</td>\n",
       "      <td>Source - RxNorm eq</td>\n",
       "      <td>6468</td>\n",
       "      <td>991876</td>\n",
       "      <td>loperamide</td>\n",
       "      <td>Ingredient</td>\n",
       "    </tr>\n",
       "  </tbody>\n",
       "</table>\n",
       "</div>"
      ],
      "text/plain": [
       "  bdpm_code  bdpm_concept_id                  bdpm_libelle  \\\n",
       "0     00001         43047359                    Loperamide   \n",
       "1         1         43239732      Loperamide hydrochloride   \n",
       "2         1         43239732      Loperamide hydrochloride   \n",
       "3     27324         43236076  Loperamide oxide monohydrate   \n",
       "4     27324         43236076  Loperamide oxide monohydrate   \n",
       "\n",
       "  bdpm_concept_class_id     relationship_id rxnorm_code  rxnorm_concept_id  \\\n",
       "0            Ingredient             Maps to        6468             991876   \n",
       "1            Ingredient             Maps to        6468             991876   \n",
       "2            Ingredient  Source - RxNorm eq        6468             991876   \n",
       "3            Ingredient             Maps to        6468             991876   \n",
       "4            Ingredient  Source - RxNorm eq        6468             991876   \n",
       "\n",
       "  rxnorm_libelle rxnorm_concept_class_id  \n",
       "0     loperamide              Ingredient  \n",
       "1     loperamide              Ingredient  \n",
       "2     loperamide              Ingredient  \n",
       "3     loperamide              Ingredient  \n",
       "4     loperamide              Ingredient  "
      ]
     },
     "execution_count": 67,
     "metadata": {},
     "output_type": "execute_result"
    }
   ],
   "source": [
    "bdpm_rxnorm = bdpm_concept_rel.merge(rxnorm, left_on=['concept_id_2'], right_on=['rxnorm_concept_id']).drop(columns=['valid_start_date','valid_end_date','invalid_reason','concept_id_1','concept_id_2'])\n",
    "bdpm_rxnorm.head()"
   ]
  },
  {
   "cell_type": "code",
   "execution_count": 68,
   "metadata": {},
   "outputs": [
    {
     "data": {
      "text/plain": [
       "bdpm_code                  6194\n",
       "bdpm_concept_id            6194\n",
       "bdpm_libelle               5491\n",
       "bdpm_concept_class_id         4\n",
       "relationship_id               2\n",
       "rxnorm_code                3339\n",
       "rxnorm_concept_id          3339\n",
       "rxnorm_libelle             3338\n",
       "rxnorm_concept_class_id       9\n",
       "dtype: int64"
      ]
     },
     "execution_count": 68,
     "metadata": {},
     "output_type": "execute_result"
    }
   ],
   "source": [
    "# Nombre de valeurs uniques par colonnes\n",
    "bdpm_rxnorm.nunique()"
   ]
  },
  {
   "cell_type": "markdown",
   "metadata": {},
   "source": [
    "Seulement 6194 / 44 376 codes de la BDPM sont alignés avec un code RxNorm"
   ]
  },
  {
   "cell_type": "code",
   "execution_count": 59,
   "metadata": {},
   "outputs": [
    {
     "data": {
      "text/plain": [
       "Ingredient      5903\n",
       "Brand Name      1805\n",
       "Dose Form        231\n",
       "Drug Product     184\n",
       "Name: bdpm_concept_class_id, dtype: int64"
      ]
     },
     "execution_count": 59,
     "metadata": {},
     "output_type": "execute_result"
    }
   ],
   "source": [
    "# Nombre de valeurs uniques par classe de la BDPM\n",
    "bdpm_rxnorm.bdpm_concept_class_id.value_counts()"
   ]
  },
  {
   "cell_type": "code",
   "execution_count": 60,
   "metadata": {},
   "outputs": [
    {
     "data": {
      "text/plain": [
       "Ingredient             5879\n",
       "Brand Name             1805\n",
       "Dose Form               231\n",
       "Clinical Drug           139\n",
       "Precise Ingredient       24\n",
       "Clinical Drug Form       22\n",
       "Clinical Pack            15\n",
       "Quant Clinical Drug       6\n",
       "Branded Drug Form         2\n",
       "Name: rxnorm_concept_class_id, dtype: int64"
      ]
     },
     "execution_count": 60,
     "metadata": {},
     "output_type": "execute_result"
    }
   ],
   "source": [
    "# Nombre de valeurs unique par classe RxNorm\n",
    "bdpm_rxnorm.rxnorm_concept_class_id.value_counts()"
   ]
  },
  {
   "cell_type": "code",
   "execution_count": 66,
   "metadata": {},
   "outputs": [
    {
     "data": {
      "text/plain": [
       "Maps to               4101\n",
       "Source - RxNorm eq    4022\n",
       "Name: relationship_id, dtype: int64"
      ]
     },
     "execution_count": 66,
     "metadata": {},
     "output_type": "execute_result"
    }
   ],
   "source": [
    "# Nombre de valeurs uniques par type de relation\n",
    "bdpm_rxnorm.relationship_id.value_counts()"
   ]
  },
  {
   "cell_type": "code",
   "execution_count": 42,
   "metadata": {},
   "outputs": [
    {
     "data": {
      "text/plain": [
       "bdpm_code            4101\n",
       "bdpm_concept_id      4101\n",
       "bdpm_libelle         3540\n",
       "relationship_id         1\n",
       "rxnorm_code          2232\n",
       "rxnorm_concept_id    2232\n",
       "rxnorm_libelle       2232\n",
       "dtype: int64"
      ]
     },
     "execution_count": 42,
     "metadata": {},
     "output_type": "execute_result"
    }
   ],
   "source": [
    "# Nombre de relations 'Maps to'\n",
    "bdpm_rxnorm[bdpm_rxnorm.relationship_id=='Maps to'].nunique()"
   ]
  },
  {
   "cell_type": "code",
   "execution_count": 70,
   "metadata": {},
   "outputs": [],
   "source": [
    "bdpm_rxnorm.to_csv('mapping_athena_bdpm_rxnorm.csv', index=False)"
   ]
  },
  {
   "cell_type": "code",
   "execution_count": null,
   "metadata": {},
   "outputs": [],
   "source": []
  }
 ],
 "metadata": {
  "kernelspec": {
   "display_name": "Python 3",
   "language": "python",
   "name": "python3"
  },
  "language_info": {
   "codemirror_mode": {
    "name": "ipython",
    "version": 3
   },
   "file_extension": ".py",
   "mimetype": "text/x-python",
   "name": "python",
   "nbconvert_exporter": "python",
   "pygments_lexer": "ipython3",
   "version": "3.11.2"
  }
 },
 "nbformat": 4,
 "nbformat_minor": 2
}
